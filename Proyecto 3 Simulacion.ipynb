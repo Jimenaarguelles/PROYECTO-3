{
 "cells": [
  {
   "cell_type": "markdown",
   "metadata": {},
   "source": [
    "# Modelo de rendimiento en una cuenta de ahorro"
   ]
  },
  {
   "cell_type": "markdown",
   "metadata": {},
   "source": [
    "Integrantes:\n",
    "   - Oswald Aceves Díaz \n",
    "   - Jimena Argüelles Pérez\n",
    "   - Sergio Renato González Mendoza"
   ]
  },
  {
   "cell_type": "markdown",
   "metadata": {},
   "source": [
    "# Planteamiento del problema"
   ]
  },
  {
   "cell_type": "markdown",
   "metadata": {},
   "source": [
    "Se quiere invertir 100,000 pesos en acciones y ETF´s. En México, la tasa de rendimientos en inversiones en acciones\n",
    "suele rondar entre 12% y 18% al año, pero sabemos que estos porcentajes pueden variar dependiendo de las estrategias y riesgo que se esta dispuesto a asumir como inversor. Entonces nuestro objetivo será, a partir del análisis de una inversión con interés compuesto y una con simple, determinar el diferencial de tiempo entre ambas para obtener el mismo rendimiento. En este caso se desea obtener el doble del capital inicial invertido. "
   ]
  },
  {
   "cell_type": "markdown",
   "metadata": {},
   "source": [
    "## Objetivos"
   ]
  },
  {
   "cell_type": "markdown",
   "metadata": {},
   "source": [
    "* __Objetivo general__: Determinar el diferencial de tiempo en el que una inversión compuesta y la simple llegan a un retorno objetivo\n",
    "* __Objetivos específicos__: \n",
    "    * Evaluar el interés compuesto que se genera al invertir x cantidad de dinero en acciones y ETF´s, esperando un retorno de al menos el doble invertido.\n",
    "    * Evaluar el interés simple que se genera al invertir x cantidad de dinero en acciones y ETF´s, esperando un retorno de al menos el doble invertido.\n",
    "    * Comparar resultados para conocer el diferencial de tiempo\n"
   ]
  },
  {
   "cell_type": "code",
   "execution_count": 1,
   "metadata": {},
   "outputs": [],
   "source": [
    "from ipywidgets import *\n",
    "from scipy.integrate import solve_ivp\n",
    "import matplotlib.pyplot as plt\n",
    "import numpy as np"
   ]
  },
  {
   "cell_type": "markdown",
   "metadata": {},
   "source": [
    "### Interés compuesto"
   ]
  },
  {
   "cell_type": "code",
   "execution_count": 11,
   "metadata": {},
   "outputs": [
    {
     "data": {
      "application/vnd.jupyter.widget-view+json": {
       "model_id": "8a95c7f6e42144ed901a3d30f4850019",
       "version_major": 2,
       "version_minor": 0
      },
      "text/plain": [
       "interactive(children=(IntSlider(value=225000, description='meta', max=250000, min=200000, step=1000), IntSlide…"
      ]
     },
     "metadata": {},
     "output_type": "display_data"
    },
    {
     "data": {
      "text/plain": [
       "<function __main__.capCompuesta(meta, C0, i)>"
      ]
     },
     "execution_count": 11,
     "metadata": {},
     "output_type": "execute_result"
    }
   ],
   "source": [
    "def capCompuesta(meta,C0,i):\n",
    "    i=i/100\n",
    "    k=np.ceil(np.log(meta/C0)/np.log(1+i))\n",
    "    p=np.linspace(0,k,k.astype('int'))\n",
    "    Ck=C0*(1+i)**p\n",
    "    print('El capital generado en ',k,' periodos es ',np.round(C0*(1+i)**k,2),' MXN.',sep='')\n",
    "    \n",
    "    fig=plt.figure()\n",
    "    ax=fig.add_subplot(111)\n",
    "    ax.plot(p,Ck,'o')\n",
    "    ax.plot([0,k],[meta,meta],':k')\n",
    "    plt.grid()\n",
    "interact_manual(capCompuesta,meta=(200000,250000,1000),C0=fixed(100000),i=(12,18,1))"
   ]
  },
  {
   "cell_type": "markdown",
   "metadata": {},
   "source": [
    "* Con un interés compuesto, una inversión de 100,000 pesos y un retorno del 12% anual, se recupera el doble de lo invertido en 6 años aproximadamente.\n",
    "* Con un interés compuesto, una inversión de 100,000 pesos y un retorno del 18% anual, se recupera el doble de lo invertido en 5 años aproximadamente."
   ]
  },
  {
   "cell_type": "markdown",
   "metadata": {},
   "source": [
    "Cuanto hubiese tardado el banco en recuperar su inversión si hubisese utilizado interés simple en lugar del compuesto?"
   ]
  },
  {
   "cell_type": "code",
   "execution_count": 10,
   "metadata": {},
   "outputs": [
    {
     "data": {
      "application/vnd.jupyter.widget-view+json": {
       "model_id": "4e0cb5c15b5b4e52a2058cb67999a401",
       "version_major": 2,
       "version_minor": 0
      },
      "text/plain": [
       "interactive(children=(IntSlider(value=225000, description='meta', max=250000, min=200000, step=1000), IntSlide…"
      ]
     },
     "metadata": {},
     "output_type": "display_data"
    },
    {
     "data": {
      "text/plain": [
       "<function __main__.capSimple(meta, C0, i)>"
      ]
     },
     "execution_count": 10,
     "metadata": {},
     "output_type": "execute_result"
    }
   ],
   "source": [
    "def capSimple(meta,C0,i):\n",
    "    i=i/100\n",
    "    k=(meta/C0-1)/i\n",
    "    k=np.ceil(k)\n",
    "    Ck=np.round(C0*(1+k*i),2) \n",
    "    print('El capital generado es ',Ck,' en ',k,' años.',sep='')\n",
    "    \n",
    "    p=np.linspace(0,k,k.astype('int')) \n",
    "    C=C0*(1+p*i) \n",
    "    fig=plt.figure()\n",
    "    ax=fig.add_subplot(111)\n",
    "    ax.plot(p,C,'o')\n",
    "    ax.plot([0,k],[meta,meta],'--k')\n",
    "    plt.grid()\n",
    "interact_manual(capSimple,meta=(200000,250000,1000),C0=fixed(100000),i=(12,18,1))"
   ]
  },
  {
   "cell_type": "markdown",
   "metadata": {},
   "source": [
    "* Con un interés simple, una inversión de 100,000 pesos y un retorno del 12% anual, se recupera el doble de lo invertido en 8 años aproximadamente.\n",
    "* Con un interés simple, una inversión de 100,000 pesos y un retorno del 18% anual, se recupera el doble de lo invertido en 6 años aproximadamente."
   ]
  },
  {
   "cell_type": "markdown",
   "metadata": {},
   "source": [
    "## Conclusiones"
   ]
  },
  {
   "cell_type": "markdown",
   "metadata": {},
   "source": [
    "En ambos casos, con retornos del 12% y 18% y el modelo de interés simple se recuperará el doble de lo invertido en aproximadamente año y medio más que con el interés compuesto. Con esta comparativa podemos concluir que el diferencial no es tan amplio en este caso debido a nuestras condiciones iniciales, especialmente el periodo de capitalización de un año. En caso de que los periodos de capitalización del interés compuesto se hagan de manera menos espaciada, los rendimientos se obtendrán más aceleradamente, mientras que en el interés simple se mantendrán constantes. En base al análisis previo, los periodos de capitalización determinarán el diferencial en un mayor porcentaje que las otras condiciones."
   ]
  },
  {
   "cell_type": "markdown",
   "metadata": {},
   "source": [
    "#### Referencias\n",
    "- Aplicación de las Ecuaciones Diferenciales a la economía. (s. f.). https://ecuadiferencialinterescompuesto.blogspot.com/2016/09/aplicacion-de-las-ecuaciones.html\n",
    "- Ecuaciones Diferenciales - Introducción. (s. f.). https://www.disfrutalasmatematicas.com/calculo/ecuaciones-diferenciales.html\n",
    "- Euroinnova Business School. (2022, 10 noviembre). magister en matematicas aplicadas. https://www.euroinnova.mx/blog/que-es-interes-simple-y-compuesto"
   ]
  },
  {
   "cell_type": "code",
   "execution_count": null,
   "metadata": {},
   "outputs": [],
   "source": []
  }
 ],
 "metadata": {
  "kernelspec": {
   "display_name": "Python 3 (ipykernel)",
   "language": "python",
   "name": "python3"
  },
  "language_info": {
   "codemirror_mode": {
    "name": "ipython",
    "version": 3
   },
   "file_extension": ".py",
   "mimetype": "text/x-python",
   "name": "python",
   "nbconvert_exporter": "python",
   "pygments_lexer": "ipython3",
   "version": "3.9.12"
  }
 },
 "nbformat": 4,
 "nbformat_minor": 4
}
